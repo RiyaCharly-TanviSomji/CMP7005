{
  "nbformat": 4,
  "nbformat_minor": 0,
  "metadata": {
    "colab": {
      "provenance": [],
      "include_colab_link": true
    },
    "kernelspec": {
      "name": "python3",
      "display_name": "Python 3"
    },
    "language_info": {
      "name": "python"
    }
  },
  "cells": [
    {
      "cell_type": "markdown",
      "metadata": {
        "id": "view-in-github",
        "colab_type": "text"
      },
      "source": [
        "<a href=\"https://colab.research.google.com/github/RiyaCharly-TanviSomji/CMP7005/blob/main/Task_3_by_riya.ipynb\" target=\"_parent\"><img src=\"https://colab.research.google.com/assets/colab-badge.svg\" alt=\"Open In Colab\"/></a>"
      ]
    },
    {
      "cell_type": "code",
      "source": [
        "!git"
      ],
      "metadata": {
        "colab": {
          "base_uri": "https://localhost:8080/"
        },
        "id": "sVHGfPEOVLR3",
        "outputId": "cbb20f96-de9b-44d9-9591-dc046f759bad",
        "collapsed": true
      },
      "execution_count": null,
      "outputs": [
        {
          "output_type": "stream",
          "name": "stdout",
          "text": [
            "usage: git [--version] [--help] [-C <path>] [-c <name>=<value>]\n",
            "           [--exec-path[=<path>]] [--html-path] [--man-path] [--info-path]\n",
            "           [-p | --paginate | -P | --no-pager] [--no-replace-objects] [--bare]\n",
            "           [--git-dir=<path>] [--work-tree=<path>] [--namespace=<name>]\n",
            "           [--super-prefix=<path>] [--config-env=<name>=<envvar>]\n",
            "           <command> [<args>]\n",
            "\n",
            "These are common Git commands used in various situations:\n",
            "\n",
            "start a working area (see also: git help tutorial)\n",
            "   clone     Clone a repository into a new directory\n",
            "   init      Create an empty Git repository or reinitialize an existing one\n",
            "\n",
            "work on the current change (see also: git help everyday)\n",
            "   add       Add file contents to the index\n",
            "   mv        Move or rename a file, a directory, or a symlink\n",
            "   restore   Restore working tree files\n",
            "   rm        Remove files from the working tree and from the index\n",
            "\n",
            "examine the history and state (see also: git help revisions)\n",
            "   bisect    Use binary search to find the commit that introduced a bug\n",
            "   diff      Show changes between commits, commit and working tree, etc\n",
            "   grep      Print lines matching a pattern\n",
            "   log       Show commit logs\n",
            "   show      Show various types of objects\n",
            "   status    Show the working tree status\n",
            "\n",
            "grow, mark and tweak your common history\n",
            "   branch    List, create, or delete branches\n",
            "   commit    Record changes to the repository\n",
            "   merge     Join two or more development histories together\n",
            "   rebase    Reapply commits on top of another base tip\n",
            "   reset     Reset current HEAD to the specified state\n",
            "   switch    Switch branches\n",
            "   tag       Create, list, delete or verify a tag object signed with GPG\n",
            "\n",
            "collaborate (see also: git help workflows)\n",
            "   fetch     Download objects and refs from another repository\n",
            "   pull      Fetch from and integrate with another repository or a local branch\n",
            "   push      Update remote refs along with associated objects\n",
            "\n",
            "'git help -a' and 'git help -g' list available subcommands and some\n",
            "concept guides. See 'git help <command>' or 'git help <concept>'\n",
            "to read about a specific subcommand or concept.\n",
            "See 'git help git' for an overview of the system.\n"
          ]
        }
      ]
    },
    {
      "cell_type": "code",
      "source": [
        "!git config --global user.email \"riyacharly5@gmail.com\"\n",
        "!git config --global user.name \"RiyaCharly-TanviSomji\""
      ],
      "metadata": {
        "id": "9B9Zx-j_Vcwu"
      },
      "execution_count": null,
      "outputs": []
    },
    {
      "cell_type": "code",
      "source": [
        "!git init"
      ],
      "metadata": {
        "colab": {
          "base_uri": "https://localhost:8080/"
        },
        "id": "WzPnLikaV_s4",
        "outputId": "3a6ebb4a-0786-4cca-e411-88036758335e"
      },
      "execution_count": null,
      "outputs": [
        {
          "output_type": "stream",
          "name": "stdout",
          "text": [
            "\u001b[33mhint: Using 'master' as the name for the initial branch. This default branch name\u001b[m\n",
            "\u001b[33mhint: is subject to change. To configure the initial branch name to use in all\u001b[m\n",
            "\u001b[33mhint: of your new repositories, which will suppress this warning, call:\u001b[m\n",
            "\u001b[33mhint: \u001b[m\n",
            "\u001b[33mhint: \tgit config --global init.defaultBranch <name>\u001b[m\n",
            "\u001b[33mhint: \u001b[m\n",
            "\u001b[33mhint: Names commonly chosen instead of 'master' are 'main', 'trunk' and\u001b[m\n",
            "\u001b[33mhint: 'development'. The just-created branch can be renamed via this command:\u001b[m\n",
            "\u001b[33mhint: \u001b[m\n",
            "\u001b[33mhint: \tgit branch -m <name>\u001b[m\n",
            "Initialized empty Git repository in /content/drive/MyDrive/CMP7005/.git/\n"
          ]
        }
      ]
    },
    {
      "cell_type": "code",
      "source": [
        "!git add .\n"
      ],
      "metadata": {
        "id": "1ftBtnURWFnA"
      },
      "execution_count": null,
      "outputs": []
    },
    {
      "cell_type": "code",
      "source": [
        "!git status"
      ],
      "metadata": {
        "colab": {
          "base_uri": "https://localhost:8080/"
        },
        "id": "j2W6UQ9pWMBG",
        "outputId": "63e5c4bf-1307-40bf-9d31-3bf85d534a10"
      },
      "execution_count": null,
      "outputs": [
        {
          "output_type": "stream",
          "name": "stdout",
          "text": [
            "On branch master\n",
            "\n",
            "No commits yet\n",
            "\n",
            "Changes to be committed:\n",
            "  (use \"git rm --cached <file>...\" to unstage)\n",
            "\t\u001b[32mnew file:   Task_3_by_riya.ipynb\u001b[m\n",
            "\t\u001b[32mnew file:   datasets/PRSA_Data_Aotizhongxin_20130301-20170228.csv\u001b[m\n",
            "\t\u001b[32mnew file:   datasets/PRSA_Data_Changping_20130301-20170228.csv\u001b[m\n",
            "\t\u001b[32mnew file:   datasets/PRSA_Data_Dingling_20130301-20170228.csv\u001b[m\n",
            "\t\u001b[32mnew file:   datasets/PRSA_Data_Dongsi_20130301-20170228.csv\u001b[m\n",
            "\t\u001b[32mnew file:   datasets/PRSA_Data_Guanyuan_20130301-20170228.csv\u001b[m\n",
            "\t\u001b[32mnew file:   datasets/PRSA_Data_Gucheng_20130301-20170228.csv\u001b[m\n",
            "\t\u001b[32mnew file:   datasets/PRSA_Data_Huairou_20130301-20170228.csv\u001b[m\n",
            "\t\u001b[32mnew file:   datasets/PRSA_Data_Nongzhanguan_20130301-20170228.csv\u001b[m\n",
            "\t\u001b[32mnew file:   datasets/PRSA_Data_Shunyi_20130301-20170228.csv\u001b[m\n",
            "\t\u001b[32mnew file:   datasets/PRSA_Data_Tiantan_20130301-20170228.csv\u001b[m\n",
            "\t\u001b[32mnew file:   datasets/PRSA_Data_Wanliu_20130301-20170228.csv\u001b[m\n",
            "\t\u001b[32mnew file:   datasets/PRSA_Data_Wanshouxigong_20130301-20170228.csv\u001b[m\n",
            "\t\u001b[32mnew file:   datasets/merged_dataset.csv\u001b[m\n",
            "\n"
          ]
        }
      ]
    },
    {
      "cell_type": "code",
      "source": [
        "!git commit -m \"Initial commit\""
      ],
      "metadata": {
        "colab": {
          "base_uri": "https://localhost:8080/"
        },
        "id": "Nls9T9R-fn7S",
        "outputId": "924529f1-e885-4f9f-9ad6-e362f733b648"
      },
      "execution_count": null,
      "outputs": [
        {
          "output_type": "stream",
          "name": "stdout",
          "text": [
            "[master (root-commit) 1d9e16f] Initial commit\n",
            " 14 files changed, 841550 insertions(+)\n",
            " create mode 100644 Task_3_by_riya.ipynb\n",
            " create mode 100644 datasets/PRSA_Data_Aotizhongxin_20130301-20170228.csv\n",
            " create mode 100644 datasets/PRSA_Data_Changping_20130301-20170228.csv\n",
            " create mode 100644 datasets/PRSA_Data_Dingling_20130301-20170228.csv\n",
            " create mode 100644 datasets/PRSA_Data_Dongsi_20130301-20170228.csv\n",
            " create mode 100644 datasets/PRSA_Data_Guanyuan_20130301-20170228.csv\n",
            " create mode 100644 datasets/PRSA_Data_Gucheng_20130301-20170228.csv\n",
            " create mode 100644 datasets/PRSA_Data_Huairou_20130301-20170228.csv\n",
            " create mode 100644 datasets/PRSA_Data_Nongzhanguan_20130301-20170228.csv\n",
            " create mode 100644 datasets/PRSA_Data_Shunyi_20130301-20170228.csv\n",
            " create mode 100644 datasets/PRSA_Data_Tiantan_20130301-20170228.csv\n",
            " create mode 100644 datasets/PRSA_Data_Wanliu_20130301-20170228.csv\n",
            " create mode 100644 datasets/PRSA_Data_Wanshouxigong_20130301-20170228.csv\n",
            " create mode 100644 datasets/merged_dataset.csv\n"
          ]
        }
      ]
    },
    {
      "cell_type": "code",
      "source": [
        "!git remote add origin https://github.com/RiyaCharly-TanviSomji/CMP7005.git"
      ],
      "metadata": {
        "id": "d_ZddFG5fvCN"
      },
      "execution_count": null,
      "outputs": []
    },
    {
      "cell_type": "code",
      "source": [
        "!git branch"
      ],
      "metadata": {
        "colab": {
          "base_uri": "https://localhost:8080/"
        },
        "id": "6pTDyTacf65F",
        "outputId": "a0882c4f-30a7-42c4-aadc-5e4df7e37bfb"
      },
      "execution_count": null,
      "outputs": [
        {
          "output_type": "stream",
          "name": "stdout",
          "text": [
            "* \u001b[32mmaster\u001b[m\n"
          ]
        }
      ]
    },
    {
      "cell_type": "code",
      "source": [
        "!git push --set-upstream origin master"
      ],
      "metadata": {
        "colab": {
          "base_uri": "https://localhost:8080/"
        },
        "id": "qidMiujpg9pI",
        "outputId": "20582e21-fee3-4a48-9e3f-ddbfa527abf3"
      },
      "execution_count": null,
      "outputs": [
        {
          "output_type": "stream",
          "name": "stdout",
          "text": [
            "fatal: could not read Username for 'https://github.com': No such device or address\n"
          ]
        }
      ]
    },
    {
      "cell_type": "code",
      "execution_count": null,
      "metadata": {
        "colab": {
          "base_uri": "https://localhost:8080/"
        },
        "id": "24tGQyh1f2jC",
        "outputId": "7e910c13-df34-4824-dd61-13286f333b1c"
      },
      "outputs": [
        {
          "output_type": "stream",
          "name": "stdout",
          "text": [
            "Mounted at /content/drive\n"
          ]
        }
      ],
      "source": [
        "from google.colab import drive\n",
        "drive.mount('/content/drive')"
      ]
    },
    {
      "cell_type": "code",
      "source": [
        "%cd /content/drive/MyDrive/CMP7005/"
      ],
      "metadata": {
        "colab": {
          "base_uri": "https://localhost:8080/"
        },
        "id": "64-f69vJfZmF",
        "outputId": "b45edd52-b72d-42bf-cf79-3d33d3ddfe2f"
      },
      "execution_count": null,
      "outputs": [
        {
          "output_type": "stream",
          "name": "stdout",
          "text": [
            "/content/drive/MyDrive/CMP7005\n"
          ]
        }
      ]
    }
  ]
}